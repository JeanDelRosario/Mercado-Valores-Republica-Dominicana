{
 "cells": [
  {
   "cell_type": "code",
   "execution_count": null,
   "metadata": {},
   "outputs": [],
   "source": [
    "import requests\n",
    "import pandas as pd\n",
    "import numpy as np\n",
    "from bs4 import BeautifulSoup"
   ]
  },
  {
   "cell_type": "code",
   "execution_count": null,
   "metadata": {
    "scrolled": true
   },
   "outputs": [],
   "source": [
    "res = requests.get(\"http://bvrd.com.do\")\n",
    "\n",
    "soup = BeautifulSoup(res.content, 'html.parser')\n",
    "\n",
    "table = soup.findAll(\"table\")[1]\n",
    "\n",
    "table\n",
    "\n",
    "pd.read_html(str(table))"
   ]
  },
  {
   "cell_type": "code",
   "execution_count": null,
   "metadata": {},
   "outputs": [],
   "source": [
    "table_DOP = table.find_all(\"tr\", {'class': ['odd dop100 oper-emisor','even dop100 oper-emisor']})\n",
    "\n",
    "table_USD = table.find_all(\"tr\", {'class': ['odd dop100 oper-emisor','even dop100 oper-emisor']})"
   ]
  },
  {
   "cell_type": "code",
   "execution_count": null,
   "metadata": {},
   "outputs": [],
   "source": [
    "df = pd.DataFrame(columns=['CODIGO','EMISOR','UTILIDAD','PRECIO','TIR'])\n",
    "for i in range(len(table_DOP)):\n",
    "    temp = pd.DataFrame(columns=['CODIGO','EMISOR','UTILIDAD','PRECIO','TIR'],\n",
    "                           data = np.reshape(np.array([0,0,0,0,0]),(1,5)))\n",
    "    for j in range(5):\n",
    "        \n",
    "        temp.iloc[0,j] =  table_DOP[i].find_all(\"td\")[j].text.strip()\n",
    "        \n",
    "    df = pd.concat([df, temp], axis = 0)\n"
   ]
  },
  {
   "cell_type": "code",
   "execution_count": null,
   "metadata": {},
   "outputs": [],
   "source": [
    "df"
   ]
  }
 ],
 "metadata": {
  "kernelspec": {
   "display_name": "Python 3",
   "language": "python",
   "name": "python3"
  },
  "language_info": {
   "codemirror_mode": {
    "name": "ipython",
    "version": 3
   },
   "file_extension": ".py",
   "mimetype": "text/x-python",
   "name": "python",
   "nbconvert_exporter": "python",
   "pygments_lexer": "ipython3",
   "version": "3.6.2"
  }
 },
 "nbformat": 4,
 "nbformat_minor": 2
}
