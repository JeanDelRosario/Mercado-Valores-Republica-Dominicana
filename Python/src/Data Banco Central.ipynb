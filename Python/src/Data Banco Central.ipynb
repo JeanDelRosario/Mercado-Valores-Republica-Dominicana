{
 "cells": [
  {
   "cell_type": "code",
   "execution_count": 10,
   "metadata": {
    "collapsed": true
   },
   "outputs": [],
   "source": [
    "from calendar import monthrange\n",
    "import requests\n",
    "\n",
    "def getDataCentral(path, filename, ext = \".xls\"):\n",
    "    '''\n",
    "    Funcion para descargar data del Banco central\n",
    "    \n",
    "    path: ruta del documento a descargar\n",
    "    filename: nombre del archivo a grabar la data descargada\n",
    "    ext: la extencion del archivo. Por lo general los del banco central son '.xls' \n",
    "    \n",
    "    TODO: Falta poner que se descarguen en la carpeta de data\n",
    "    \n",
    "    '''\n",
    "    resp = requests.get(path)\n",
    "    \n",
    "    with open(filename + ext, \"wb\") as output:\n",
    "        output.write(resp.content)"
   ]
  },
  {
   "cell_type": "code",
   "execution_count": 11,
   "metadata": {
    "collapsed": true
   },
   "outputs": [],
   "source": [
    "documentos = {\"PIB\": \"https://gdc.bancentral.gov.do/Common/public/estad%C3%ADsticas/sector-real/documents/pib_gasto_2007.xls\",\n",
    "              \"IPC\": \"https://gdc.bancentral.gov.do/Common/public/estad%C3%ADsticas/precios/documents/ipc_base_2010.xls\",\n",
    "              \"TPM\": \"https://gdc.bancentral.gov.do/Common/public/estad%C3%ADsticas/sector-monetario-y-financiero/documents/Serie_TPM.xlsx\",\n",
    "              \"tasa_dolar\": \"https://gdc.bancentral.gov.do/Common/public/estad%C3%ADsticas/mercado-cambiario//documents//TASA_DOLAR_REFERENCIA_MC.XLS\",\n",
    "              \"tasa_cambio_todas\": \"https://gdc.bancentral.gov.do/Common/public/estad%C3%ADsticas/mercado-cambiario//documents//TASAS_CONVERTIBLES_OTRAS_MONEDAS.xls\",\n",
    "              \"agregados_monetarios\": \"https://gdc.bancentral.gov.do/Common/public/estad%C3%ADsticas/sector-monetario-y-financiero/documents/agregados_monetarios.xls\",\n",
    "              \"reservas_internacionales\": \"https://gdc.bancentral.gov.do/Common/public/estad%C3%ADsticas/sector-externo/documents/reservas_internacionales.xls\"}"
   ]
  },
  {
   "cell_type": "code",
   "execution_count": 12,
   "metadata": {},
   "outputs": [],
   "source": [
    "for filename, path in documentos.items():\n",
    "    getDataCentral(path, filename)"
   ]
  }
 ],
 "metadata": {
  "kernelspec": {
   "display_name": "Python 3",
   "language": "python",
   "name": "python3"
  },
  "language_info": {
   "codemirror_mode": {
    "name": "ipython",
    "version": 3
   },
   "file_extension": ".py",
   "mimetype": "text/x-python",
   "name": "python",
   "nbconvert_exporter": "python",
   "pygments_lexer": "ipython3",
   "version": "3.6.2"
  }
 },
 "nbformat": 4,
 "nbformat_minor": 2
}
